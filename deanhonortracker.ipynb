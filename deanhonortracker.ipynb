{
 "cells": [
  {
   "cell_type": "code",
   "execution_count": 13,
   "id": "9b66f81c",
   "metadata": {
    "scrolled": false
   },
   "outputs": [
    {
     "name": "stdout",
     "output_type": "stream",
     "text": [
      "Enter student's last name: McKay\n",
      "Enter student's first name: Dylan\n",
      "Enter student's GPA: 3.6\n",
      "Dylan McKay has made the Dean's List.\n"
     ]
    }
   ],
   "source": [
    "# Dylan McKay\n",
    "# deanhonortracker.ipynb\n",
    "# Accepts student GPA as input and tests if student meets criteria for either Dean's list or Honor Roll.\n",
    "\n",
    "lastname = input(\"Enter student's last name: \")\n",
    "\n",
    "if lastname == \"ZZZ\":\n",
    "    print(\"Record processing exited.\")\n",
    "else:    \n",
    "    firstname = input(\"Enter student's first name: \")\n",
    "    gpa = float(input(\"Enter student's GPA: \"))\n",
    "\n",
    "    if gpa >= 3.5:\n",
    "        print(f\"{firstname} {lastname} has made the Dean's List.\")\n",
    "    elif gpa >= 3.25:\n",
    "        print(f\"{firstname} {lastname} has made the Honor Roll.\")\n",
    "    else:\n",
    "        print(f\"{firstname} {lastname} does not qualify for either Dean's List or Honor Roll.\\n\")"
   ]
  },
  {
   "cell_type": "code",
   "execution_count": 14,
   "id": "63263e61",
   "metadata": {},
   "outputs": [
    {
     "name": "stdout",
     "output_type": "stream",
     "text": [
      "Enter student's last name: Anderson\n",
      "Enter student's first name: Maya\n",
      "Enter student's GPA: 3.3\n",
      "Maya Anderson has made the Honor Roll.\n"
     ]
    }
   ],
   "source": [
    "lastname = input(\"Enter student's last name: \")\n",
    "\n",
    "if lastname == \"ZZZ\":\n",
    "    print(\"Record processing exited.\")\n",
    "else:    \n",
    "    firstname = input(\"Enter student's first name: \")\n",
    "    gpa = float(input(\"Enter student's GPA: \"))\n",
    "\n",
    "    if gpa >= 3.5:\n",
    "        print(f\"{firstname} {lastname} has made the Dean's List.\")\n",
    "    elif gpa >= 3.25:\n",
    "        print(f\"{firstname} {lastname} has made the Honor Roll.\")\n",
    "    else:\n",
    "        print(f\"{firstname} {lastname} does not qualify for either Dean's List or Honor Roll.\\n\")"
   ]
  },
  {
   "cell_type": "code",
   "execution_count": 15,
   "id": "14d2051c",
   "metadata": {},
   "outputs": [
    {
     "name": "stdout",
     "output_type": "stream",
     "text": [
      "Enter student's last name: Mitchell\n",
      "Enter student's first name: Adrian\n",
      "Enter student's GPA: 3.0\n",
      "Adrian Mitchell does not qualify for either Dean's List or Honor Roll.\n",
      "\n"
     ]
    }
   ],
   "source": [
    "lastname = input(\"Enter student's last name: \")\n",
    "\n",
    "if lastname == \"ZZZ\":\n",
    "    print(\"Record processing exited.\")\n",
    "else:    \n",
    "    firstname = input(\"Enter student's first name: \")\n",
    "    gpa = float(input(\"Enter student's GPA: \"))\n",
    "\n",
    "    if gpa >= 3.5:\n",
    "        print(f\"{firstname} {lastname} has made the Dean's List.\")\n",
    "    elif gpa >= 3.25:\n",
    "        print(f\"{firstname} {lastname} has made the Honor Roll.\")\n",
    "    else:\n",
    "        print(f\"{firstname} {lastname} does not qualify for either Dean's List or Honor Roll.\\n\")"
   ]
  },
  {
   "cell_type": "code",
   "execution_count": 16,
   "id": "cc7810e3",
   "metadata": {},
   "outputs": [
    {
     "name": "stdout",
     "output_type": "stream",
     "text": [
      "Enter student's last name: Ramirez\n",
      "Enter student's first name: Isabella\n",
      "Enter student's GPA: 3.9\n",
      "Isabella Ramirez has made the Dean's List.\n"
     ]
    }
   ],
   "source": [
    "lastname = input(\"Enter student's last name: \")\n",
    "\n",
    "if lastname == \"ZZZ\":\n",
    "    print(\"Record processing exited.\")\n",
    "else:    \n",
    "    firstname = input(\"Enter student's first name: \")\n",
    "    gpa = float(input(\"Enter student's GPA: \"))\n",
    "\n",
    "    if gpa >= 3.5:\n",
    "        print(f\"{firstname} {lastname} has made the Dean's List.\")\n",
    "    elif gpa >= 3.25:\n",
    "        print(f\"{firstname} {lastname} has made the Honor Roll.\")\n",
    "    else:\n",
    "        print(f\"{firstname} {lastname} does not qualify for either Dean's List or Honor Roll.\\n\")"
   ]
  },
  {
   "cell_type": "code",
   "execution_count": 17,
   "id": "6f20b110",
   "metadata": {},
   "outputs": [
    {
     "name": "stdout",
     "output_type": "stream",
     "text": [
      "Enter student's last name: Patel\n",
      "Enter student's first name: Liam\n",
      "Enter student's GPA: 3.4\n",
      "Liam Patel has made the Honor Roll.\n"
     ]
    }
   ],
   "source": [
    "lastname = input(\"Enter student's last name: \")\n",
    "\n",
    "if lastname == \"ZZZ\":\n",
    "    print(\"Record processing exited.\")\n",
    "else:    \n",
    "    firstname = input(\"Enter student's first name: \")\n",
    "    gpa = float(input(\"Enter student's GPA: \"))\n",
    "\n",
    "    if gpa >= 3.5:\n",
    "        print(f\"{firstname} {lastname} has made the Dean's List.\")\n",
    "    elif gpa >= 3.25:\n",
    "        print(f\"{firstname} {lastname} has made the Honor Roll.\")\n",
    "    else:\n",
    "        print(f\"{firstname} {lastname} does not qualify for either Dean's List or Honor Roll.\\n\")"
   ]
  },
  {
   "cell_type": "code",
   "execution_count": null,
   "id": "50ef27e2",
   "metadata": {},
   "outputs": [],
   "source": []
  }
 ],
 "metadata": {
  "kernelspec": {
   "display_name": "Python 3 (ipykernel)",
   "language": "python",
   "name": "python3"
  },
  "language_info": {
   "codemirror_mode": {
    "name": "ipython",
    "version": 3
   },
   "file_extension": ".py",
   "mimetype": "text/x-python",
   "name": "python",
   "nbconvert_exporter": "python",
   "pygments_lexer": "ipython3",
   "version": "3.11.4"
  }
 },
 "nbformat": 4,
 "nbformat_minor": 5
}
